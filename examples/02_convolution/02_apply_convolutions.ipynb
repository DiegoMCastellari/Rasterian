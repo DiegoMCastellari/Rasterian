{
 "cells": [
  {
   "cell_type": "code",
   "execution_count": 19,
   "metadata": {},
   "outputs": [],
   "source": [
    "import numpy as np\n",
    "from rasterian.trasformation.stack import create_stacked_raster\n",
    "from rasterian.trasformation.scale_intensity_correction import equalize_adapthist\n",
    "from rasterian.focal.global_convolution import conv_media, conv_matrix, conv_image"
   ]
  },
  {
   "attachments": {},
   "cell_type": "markdown",
   "metadata": {},
   "source": [
    "### Create a raster stacked numpy narray"
   ]
  },
  {
   "cell_type": "code",
   "execution_count": 4,
   "metadata": {},
   "outputs": [
    {
     "name": "stdout",
     "output_type": "stream",
     "text": [
      "['../landsat_8_2022/landsat_8_2022_b1.tif', '../landsat_8_2022/landsat_8_2022_b2.tif', '../landsat_8_2022/landsat_8_2022_b3.tif', '../landsat_8_2022/landsat_8_2022_b4.tif', '../landsat_8_2022/landsat_8_2022_b5.tif', '../landsat_8_2022/landsat_8_2022_b6.tif', '../landsat_8_2022/landsat_8_2022_b7.tif']\n"
     ]
    }
   ],
   "source": [
    "# change path to your raster bands folder\n",
    "bands_files_path_dir = \"../landsat_8_2022/\"\n",
    "\n",
    "# stack bands to a multiband raster\n",
    "stacked_raster, raster_meta = create_stacked_raster(bands_files_path_dir)"
   ]
  },
  {
   "cell_type": "code",
   "execution_count": null,
   "metadata": {},
   "outputs": [],
   "source": [
    "# rescale raster\n",
    "stacked_raster = equalize_adapthist(stacked_raster)"
   ]
  },
  {
   "attachments": {},
   "cell_type": "markdown",
   "metadata": {},
   "source": [
    "### Calculate media of pixels\n",
    "The function calculates the media of the pixel values using a moving window of nxn.      \n",
    "If n==3, is the same than using the function conv_matrix, with a matrix == [[1,1,1], [1,1,1], [1,1,1]]"
   ]
  },
  {
   "cell_type": "code",
   "execution_count": 12,
   "metadata": {},
   "outputs": [],
   "source": [
    "# calculate the convolution for a band\n",
    "blue_band_media = conv_media(stacked_raster[0], 3)"
   ]
  },
  {
   "cell_type": "code",
   "execution_count": 8,
   "metadata": {},
   "outputs": [],
   "source": [
    "# calculate the convolution for the whole raster\n",
    "stacked_raster_media = conv_image(stacked_raster, 3)"
   ]
  },
  {
   "cell_type": "code",
   "execution_count": 13,
   "metadata": {},
   "outputs": [
    {
     "name": "stdout",
     "output_type": "stream",
     "text": [
      "Blue mean value: 6865.35550445148\n",
      "Blue convolution mean value: 6865.355504451471\n",
      "Blue convolution mean value: 6865.355504451471\n"
     ]
    }
   ],
   "source": [
    "# check results\n",
    "print(f\"Blue mean value: {stacked_raster[0].mean()}\")\n",
    "print(f\"Blue convolution mean value: {blue_band_media.mean()}\")\n",
    "print(f\"Blue convolution mean value: {stacked_raster_media[0].mean()}\")"
   ]
  },
  {
   "attachments": {},
   "cell_type": "markdown",
   "metadata": {},
   "source": [
    "### Calculate convolution of pixels using a matrix\n",
    "The function calculates the media of the pixel values using a moving window of weights matrix (convolution kernel).      "
   ]
  },
  {
   "cell_type": "code",
   "execution_count": 9,
   "metadata": {},
   "outputs": [],
   "source": [
    "# calculate the convolution for a band\n",
    "convolution_kernel = [[3,2,1], [2,2,2], [3,0,1]]\n",
    "blue_band_conv = conv_matrix(stacked_raster[0], convolution_kernel)"
   ]
  },
  {
   "cell_type": "code",
   "execution_count": 10,
   "metadata": {},
   "outputs": [],
   "source": [
    "# calculate the convolution for the whole raster\n",
    "convolution_kernel = [[3,2,1], [2,2,2], [3,0,1]]\n",
    "stacked_raster_conv = conv_image(stacked_raster, convolution_kernel)"
   ]
  },
  {
   "cell_type": "code",
   "execution_count": 14,
   "metadata": {},
   "outputs": [
    {
     "name": "stdout",
     "output_type": "stream",
     "text": [
      "Blue mean value: 6865.35550445148\n",
      "Blue convolution mean value: 12205.076452358218\n",
      "Blue convolution mean value: 12205.076452358218\n"
     ]
    }
   ],
   "source": [
    "print(f\"Blue mean value: {stacked_raster[0].mean()}\")\n",
    "print(f\"Blue convolution mean value: {blue_band_conv.mean()}\")\n",
    "print(f\"Blue convolution mean value: {stacked_raster_conv[0].mean()}\")"
   ]
  },
  {
   "attachments": {},
   "cell_type": "markdown",
   "metadata": {},
   "source": [
    "### Low-Pass Filter (bluring)\n",
    "Each pixel is computed as the average of the surrounding pixels."
   ]
  },
  {
   "cell_type": "code",
   "execution_count": 16,
   "metadata": {},
   "outputs": [],
   "source": [
    "# to applya convolution kernel of weights 1/9, pass a matrix of 1s.\n",
    "\n",
    "convolution_kernel = [[1,1,1], [1,1,1], [1,1,1]]\n",
    "stacked_raster_lowpass = conv_matrix(stacked_raster[0], convolution_kernel)"
   ]
  },
  {
   "cell_type": "code",
   "execution_count": 17,
   "metadata": {},
   "outputs": [],
   "source": [
    "# If we didn't want to filter so harshly, we could change the kernel to reduce the averaging, for example:\n",
    "\n",
    "convolution_kernel = [[0,1,0], [1,4,1], [0,1,0]]\n",
    "stacked_raster_lowpass = conv_matrix(stacked_raster[0], convolution_kernel)"
   ]
  },
  {
   "cell_type": "code",
   "execution_count": 18,
   "metadata": {},
   "outputs": [],
   "source": [
    "# Gaussian Blur - As you can see, it's a weighted mean of the surrounding pixels that gives more weight to the pixel near the current pixel. \n",
    "\n",
    "convolution_kernel = [\n",
    "    [1,4,6,4,1],\n",
    "    [4,16,24,16,4],\n",
    "    [6,24,36,24,6],\n",
    "    [4,16,24,16,4],\n",
    "    [1,4,6,4,1]\n",
    "]\n",
    "stacked_raster_lowpass = conv_matrix(stacked_raster[0], convolution_kernel)"
   ]
  },
  {
   "attachments": {},
   "cell_type": "markdown",
   "metadata": {},
   "source": [
    "### High-Pass Filter (sharpening)\n",
    "In this kernel, the pixel is boosted when the neighbor pixels are different."
   ]
  },
  {
   "cell_type": "code",
   "execution_count": null,
   "metadata": {},
   "outputs": [],
   "source": [
    "convolution_kernel = [[0,-0.5,0], [-0.5,3,-0.5], [0,-0.5,0]]\n",
    "stacked_raster_highpass = conv_matrix(stacked_raster[0], convolution_kernel)"
   ]
  },
  {
   "attachments": {},
   "cell_type": "markdown",
   "metadata": {},
   "source": [
    "### Edge detection\n",
    "There are multiple ways to do edge detection. We will present the Sobel Operator here."
   ]
  },
  {
   "cell_type": "code",
   "execution_count": null,
   "metadata": {},
   "outputs": [],
   "source": [
    "convolution_kernel = [[-1,0,1], [-2,0,2], [-1,0,1]]\n",
    "stacked_raster_edge_x = conv_matrix(stacked_raster[0], convolution_kernel)"
   ]
  },
  {
   "cell_type": "code",
   "execution_count": null,
   "metadata": {},
   "outputs": [],
   "source": [
    "convolution_kernel = [[-1,-2,-1], [0,0,0], [1,2,1]]\n",
    "stacked_raster_edge_y = conv_matrix(stacked_raster[0], convolution_kernel)"
   ]
  },
  {
   "cell_type": "code",
   "execution_count": null,
   "metadata": {},
   "outputs": [],
   "source": [
    "# We compute the convolution between the image (converted in black and white) and the two kernels separately. \n",
    "# That gives us, for each pixel, the values magx and magy. The value of the current pixel is set at rtsq( magx² + magy² )\n",
    "raster_edges = np.sqrt(stacked_raster_edge_x **2 + stacked_raster_edge_y **2)"
   ]
  },
  {
   "cell_type": "code",
   "execution_count": null,
   "metadata": {},
   "outputs": [],
   "source": []
  }
 ],
 "metadata": {
  "kernelspec": {
   "display_name": "testRasterio",
   "language": "python",
   "name": "python3"
  },
  "language_info": {
   "codemirror_mode": {
    "name": "ipython",
    "version": 3
   },
   "file_extension": ".py",
   "mimetype": "text/x-python",
   "name": "python",
   "nbconvert_exporter": "python",
   "pygments_lexer": "ipython3",
   "version": "3.11.4"
  },
  "orig_nbformat": 4,
  "vscode": {
   "interpreter": {
    "hash": "fa6ca95f07b698d12f3aa22f058ea197fe432e6d3a528f4d9c35f2c31e0748fd"
   }
  }
 },
 "nbformat": 4,
 "nbformat_minor": 2
}
